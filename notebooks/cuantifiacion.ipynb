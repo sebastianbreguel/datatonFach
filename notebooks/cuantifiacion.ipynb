{
 "cells": [
  {
   "cell_type": "code",
   "execution_count": 579,
   "metadata": {},
   "outputs": [],
   "source": [
    "import rasterio\n",
    "import rioxarray\n",
    "import os\n",
    "import numpy as np"
   ]
  },
  {
   "cell_type": "code",
   "execution_count": 580,
   "metadata": {},
   "outputs": [],
   "source": [
    "tif_pre_fire = \"../rasters/lansat/2023_valpo_swir22-nir-red.tif\"\n",
    "tif_post_fire = \"../rasters/lansat/2024_valpo_swir22-nir-red.tif\"\n",
    "\n",
    "pre_fire = rasterio.open(tif_pre_fire)\n",
    "post_fire = rasterio.open(tif_post_fire)"
   ]
  },
  {
   "cell_type": "code",
   "execution_count": 581,
   "metadata": {},
   "outputs": [],
   "source": [
    "# Usamos las bandas red y nir para calcular el NBR\n",
    "nbr_pre_fire = (pre_fire.read(3) - pre_fire.read(2)) / (pre_fire.read(3) + pre_fire.read(2))\n",
    "nbr_post_fire = (post_fire.read(3) - post_fire.read(2)) / (post_fire.read(3) + post_fire.read(2))\n",
    "\n",
    "# Con estos calculamos el dNBR\n",
    "dnbr = nbr_pre_fire - nbr_post_fire\n",
    "\n",
    "# Guardamos el resultado en un nuevo archivo\n",
    "profile = pre_fire.profile\n",
    "profile.update(dtype=rasterio.float32, count=1)\n",
    "# with rasterio.open(\"../rasters/lansat/dnbr_2023_2024.tif\", \"w\", **profile) as dst:\n",
    "#     dst.write(dnbr, 1)\n",
    "    "
   ]
  },
  {
   "cell_type": "code",
   "execution_count": 582,
   "metadata": {},
   "outputs": [],
   "source": [
    "# Ahora creamos categorias de valores para dNBR\n",
    "dnbr_ranges = {\n",
    "    'enhaced_regrowth_high': (-0.500, -0.251),\n",
    "    'enhaced_regrowth_low': (-0.250, -0.101),\n",
    "    'unburned': (-0.100, 0.99),\n",
    "    'low_severity': (0.100, 0.269),\n",
    "    'moderate_low_severity': (0.270, 0.439),\n",
    "    'moderate_high_severity': (0.440, 0.659),\n",
    "    'high_severity': (0.660, 1.300)\n",
    "}\n",
    "\n",
    "dnbr_gray_values = {\n",
    "    'enhaced_regrowth_high': 0,\n",
    "    'enhaced_regrowth_low': 1,\n",
    "    'unburned': 2,\n",
    "    'low_severity': 3,\n",
    "    'moderate_low_severity': 5,\n",
    "    'moderate_high_severity': 6,\n",
    "    'high_severity': 7\n",
    "}\n",
    "\n",
    "dnbr_counts = {\n",
    "    'enhaced_regrowth_high': 0,\n",
    "    'enhaced_regrowth_low': 0,\n",
    "    'unburned': 0,\n",
    "    'low_severity': 0,\n",
    "    'moderate_low_severity': 0,\n",
    "    'moderate_high_severity': 0,\n",
    "    'high_severity': 0\n",
    "}"
   ]
  },
  {
   "cell_type": "code",
   "execution_count": 583,
   "metadata": {},
   "outputs": [
    {
     "data": {
      "text/plain": [
       "{'enhaced_regrowth_high': 4879,\n",
       " 'enhaced_regrowth_low': 110224,\n",
       " 'unburned': 2507095,\n",
       " 'low_severity': 5314,\n",
       " 'moderate_low_severity': 613,\n",
       " 'moderate_high_severity': 78,\n",
       " 'high_severity': 109}"
      ]
     },
     "execution_count": 583,
     "metadata": {},
     "output_type": "execute_result"
    }
   ],
   "source": [
    "# Recorremos la mascara dNBR y contamos cuantos pixeles hay en cada categoria\n",
    "for key, value in dnbr_ranges.items():\n",
    "    dnbr_counts[key] = ((dnbr >= value[0]) & (dnbr <= value[1])).sum()\n",
    "    \n",
    "dnbr_counts"
   ]
  },
  {
   "cell_type": "code",
   "execution_count": 584,
   "metadata": {},
   "outputs": [
    {
     "data": {
      "text/plain": [
       "{'enhaced_regrowth_high': 4391100,\n",
       " 'enhaced_regrowth_low': 99201600,\n",
       " 'unburned': 2256385500,\n",
       " 'low_severity': 4782600,\n",
       " 'moderate_low_severity': 551700,\n",
       " 'moderate_high_severity': 70200,\n",
       " 'high_severity': 98100}"
      ]
     },
     "execution_count": 584,
     "metadata": {},
     "output_type": "execute_result"
    }
   ],
   "source": [
    "# Multiplicamos por 30x30 para obtener el area en metros cuadrados\n",
    "\n",
    "# Cambiamos el tipo de dato de dnbr_counts a int64\n",
    "dnbr_counts = {key: int(value) * 30 * 30 for key, value in dnbr_counts.items()}\n",
    "\n",
    "# Multiplicamos por 30x30 para obtener el area en metros cuadrados\n",
    "dnbr_counts = {key: value * 30 * 30 for key, value in dnbr_counts.items()}\n",
    "\n",
    "dnbr_counts"
   ]
  },
  {
   "cell_type": "code",
   "execution_count": 585,
   "metadata": {},
   "outputs": [],
   "source": [
    "# Ahora creamos un nuevo tif \n",
    "# Los valores de la mascara seran los valores de dnbr_gray_values\n",
    "# con los valores de dnbr_counts\n",
    "dnbr_mask = dnbr.copy()\n",
    "for key, value in dnbr_ranges.items():\n",
    "    dnbr_mask[(dnbr >= value[0]) & (dnbr <= value[1])] = dnbr_gray_values[key]\n",
    "    \n",
    "dnbr_mask[np.logical_not(dnbr_mask> 0)] = 0\n",
    "    \n",
    "profile = pre_fire.profile\n",
    "profile.update(dtype=rasterio.float32, count=1)\n",
    "\n",
    "path_dnbr_2023_2024_discretised = \"../rasters/lansat/dnbr_2023_2024_discretised.tif\"\n",
    "if os.path.exists(path_dnbr_2023_2024_discretised):\n",
    "    os.remove(path_dnbr_2023_2024_discretised)\n",
    "with rasterio.open(\"../rasters/lansat/dnbr_2023_2024_discretised.tif\", \"w\", **profile) as dst:\n",
    "    dst.write(dnbr_mask, 1)"
   ]
  },
  {
   "cell_type": "code",
   "execution_count": 586,
   "metadata": {},
   "outputs": [
    {
     "name": "stdout",
     "output_type": "stream",
     "text": [
      "Valor mínimo de dNBR: 0.0\n",
      "Valor máximo de dNBR: 7.0\n"
     ]
    }
   ],
   "source": [
    "import numpy as np\n",
    "\n",
    "# Obtener el rango de valores de dNBR\n",
    "min_value = np.nanmin(dnbr_mask)\n",
    "max_value = np.nanmax(dnbr_mask)\n",
    "\n",
    "print('Valor mínimo de dNBR:', min_value)\n",
    "print('Valor máximo de dNBR:', max_value)"
   ]
  },
  {
   "cell_type": "code",
   "execution_count": 587,
   "metadata": {},
   "outputs": [
    {
     "data": {
      "text/plain": [
       "array([0., 1., 2., 3., 5., 6., 7.], dtype=float32)"
      ]
     },
     "execution_count": 587,
     "metadata": {},
     "output_type": "execute_result"
    }
   ],
   "source": [
    "np.unique(dnbr_mask.flatten())"
   ]
  },
  {
   "cell_type": "code",
   "execution_count": 588,
   "metadata": {},
   "outputs": [
    {
     "data": {
      "text/plain": [
       "array([[0., 0., 0., ..., 2., 2., 2.],\n",
       "       [0., 0., 0., ..., 2., 2., 2.],\n",
       "       [0., 0., 0., ..., 2., 2., 2.],\n",
       "       ...,\n",
       "       [2., 2., 2., ..., 2., 2., 2.],\n",
       "       [2., 2., 2., ..., 2., 2., 2.],\n",
       "       [2., 2., 2., ..., 2., 2., 2.]], dtype=float32)"
      ]
     },
     "execution_count": 588,
     "metadata": {},
     "output_type": "execute_result"
    }
   ],
   "source": [
    "dnbr_mask"
   ]
  }
 ],
 "metadata": {
  "kernelspec": {
   "display_name": "dataton-fach",
   "language": "python",
   "name": "python3"
  },
  "language_info": {
   "codemirror_mode": {
    "name": "ipython",
    "version": 3
   },
   "file_extension": ".py",
   "mimetype": "text/x-python",
   "name": "python",
   "nbconvert_exporter": "python",
   "pygments_lexer": "ipython3",
   "version": "3.10.11"
  }
 },
 "nbformat": 4,
 "nbformat_minor": 2
}
