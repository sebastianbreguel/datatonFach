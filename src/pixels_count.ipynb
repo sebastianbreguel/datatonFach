{
 "cells": [
  {
   "cell_type": "code",
   "execution_count": 13,
   "metadata": {},
   "outputs": [],
   "source": [
    "from PIL import Image\n",
    "import numpy as np\n",
    "import matplotlib.pyplot as plt\n",
    "import matplotlib.colors as mcolors"
   ]
  },
  {
   "cell_type": "code",
   "execution_count": 14,
   "metadata": {},
   "outputs": [],
   "source": [
    "# dNBR Range (scaled by 1000)\n",
    "dnbr_ranges = {\n",
    "    'enhaced_regrowth_high': (-500, -251),\n",
    "    'enhaced_regrowth_low': (-250, -101),\n",
    "    'unburned': (-100, 99),\n",
    "    'low_severity': (100, 269),\n",
    "    'moderate_low_severity': (270, 439),\n",
    "    'moderate_high_severity': (440, 659),\n",
    "    'high_severity': (660, 1300)\n",
    "}"
   ]
  },
  {
   "cell_type": "code",
   "execution_count": 15,
   "metadata": {},
   "outputs": [],
   "source": [
    "# dNBR Color Map\n",
    "dnbr_counts = {\n",
    "    'enhaced_regrowth_high': 0,\n",
    "    'enhaced_regrowth_low': 0,\n",
    "    'unburned': 0,\n",
    "    'low_severity': 0,\n",
    "    'moderate_low_severity': 0,\n",
    "    'moderate_high_severity': 0,\n",
    "    'high_severity': 0\n",
    "}"
   ]
  },
  {
   "cell_type": "code",
   "execution_count": 16,
   "metadata": {},
   "outputs": [],
   "source": [
    "# Path de la Imagen\n",
    "path = './rasters/elevation/20140923_valpo_elevation.tif'\n",
    "imagen = Image.open(path)\n",
    "\n",
    "# Convertir la imagen a un array\n",
    "imagen_array = np.array(imagen)"
   ]
  },
  {
   "cell_type": "code",
   "execution_count": 18,
   "metadata": {},
   "outputs": [
    {
     "name": "stdout",
     "output_type": "stream",
     "text": [
      "enhaced_regrowth_high: 0 píxeles\n",
      "enhaced_regrowth_low: 0 píxeles\n",
      "unburned: 1323703 píxeles\n",
      "low_severity: 713978 píxeles\n",
      "moderate_low_severity: 745708 píxeles\n",
      "moderate_high_severity: 136890 píxeles\n",
      "high_severity: 401 píxeles\n"
     ]
    }
   ],
   "source": [
    "# Para cada categoria, contar cuantos pixeles estan en el rango\n",
    "for category, (min_val, max_val) in dnbr_ranges.items():\n",
    "\n",
    "    # Pixels in range\n",
    "    pixels_in_range = np.logical_and(imagen_array >= min_val, imagen_array <= max_val)\n",
    "\n",
    "    # Count pixels in range\n",
    "    dnbr_counts[category] = np.sum(pixels_in_range)"
   ]
  },
  {
   "cell_type": "code",
   "execution_count": null,
   "metadata": {},
   "outputs": [],
   "source": [
    "# Printear Resultados\n",
    "for category, count in dnbr_counts.items():\n",
    "    print(f\"{category}: {count} píxeles\")"
   ]
  }
 ],
 "metadata": {
  "kernelspec": {
   "display_name": "base",
   "language": "python",
   "name": "python3"
  },
  "language_info": {
   "codemirror_mode": {
    "name": "ipython",
    "version": 3
   },
   "file_extension": ".py",
   "mimetype": "text/x-python",
   "name": "python",
   "nbconvert_exporter": "python",
   "pygments_lexer": "ipython3",
   "version": "3.11.5"
  }
 },
 "nbformat": 4,
 "nbformat_minor": 2
}
