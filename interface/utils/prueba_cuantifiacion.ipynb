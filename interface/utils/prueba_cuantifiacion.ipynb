{
 "cells": [
  {
   "cell_type": "code",
   "execution_count": 2,
   "metadata": {},
   "outputs": [],
   "source": [
    "import rasterio\n",
    "import rioxarray"
   ]
  },
  {
   "cell_type": "code",
   "execution_count": 3,
   "metadata": {},
   "outputs": [],
   "source": [
    "tif_pre_fire = \"../rasters/lansat/2023_valpo_swir16-nir-red.tif\"\n",
    "tif_post_fire = \"../rasters/lansat/2024_valpo_swir16-nir-red.tif\"\n",
    "\n",
    "pre_fire = rasterio.open(tif_pre_fire)\n",
    "post_fire = rasterio.open(tif_post_fire)"
   ]
  },
  {
   "cell_type": "code",
   "execution_count": 4,
   "metadata": {},
   "outputs": [],
   "source": [
    "# Usamos las bandas SWIR y NIR para calcular el NBR\n",
    "nbr_pre_fire = (pre_fire.read(1) - pre_fire.read(2)) / (pre_fire.read(1) + pre_fire.read(2))\n",
    "nbr_post_fire = (post_fire.read(1) - post_fire.read(2)) / (post_fire.read(1) + post_fire.read(2))\n",
    "\n",
    "# Con estos calculamos el dNBR\n",
    "dnbr = nbr_pre_fire - nbr_post_fire\n",
    "\n",
    "# Guardamos el resultado en un nuevo archivo\n",
    "profile = pre_fire.profile\n",
    "profile.update(dtype=rasterio.float32, count=1)\n",
    "# with rasterio.open(\"../rasters/lansat/dnbr.tif\", \"w\", **profile) as dst:\n",
    "#     dst.write(dnbr, 1)\n",
    "    "
   ]
  },
  {
   "cell_type": "code",
   "execution_count": 11,
   "metadata": {},
   "outputs": [],
   "source": [
    "# Ahora creamos categorias de valores para dNBR\n",
    "dnbr_ranges = {\n",
    "    'enhaced_regrowth_high': (-0.500, -0.251),\n",
    "    'enhaced_regrowth_low': (-0.250, -0.101),\n",
    "    'unburned': (-0.100, 0.99),\n",
    "    'low_severity': (0.100, 0.269),\n",
    "    'moderate_low_severity': (0.270, 0.439),\n",
    "    'moderate_high_severity': (0.440, 0.659),\n",
    "    'high_severity': (0.660, 1.300)\n",
    "}\n",
    "\n",
    "dnbr_counts = {\n",
    "    'enhaced_regrowth_high': 0,\n",
    "    'enhaced_regrowth_low': 0,\n",
    "    'unburned': 0,\n",
    "    'low_severity': 0,\n",
    "    'moderate_low_severity': 0,\n",
    "    'moderate_high_severity': 0,\n",
    "    'high_severity': 0\n",
    "}\n"
   ]
  },
  {
   "cell_type": "code",
   "execution_count": 13,
   "metadata": {},
   "outputs": [
    {
     "data": {
      "text/plain": [
       "{'enhaced_regrowth_high': 3208,\n",
       " 'enhaced_regrowth_low': 94162,\n",
       " 'unburned': 2525324,\n",
       " 'low_severity': 6634,\n",
       " 'moderate_low_severity': 1946,\n",
       " 'moderate_high_severity': 231,\n",
       " 'high_severity': 0}"
      ]
     },
     "execution_count": 13,
     "metadata": {},
     "output_type": "execute_result"
    }
   ],
   "source": [
    "# Recorremos la mascara dNBR y contamos cuantos pixeles hay en cada categoria\n",
    "for key, value in dnbr_ranges.items():\n",
    "    dnbr_counts[key] = ((dnbr >= value[0]) & (dnbr <= value[1])).sum()\n",
    "    \n",
    "dnbr_counts"
   ]
  },
  {
   "cell_type": "code",
   "execution_count": null,
   "metadata": {},
   "outputs": [],
   "source": []
  }
 ],
 "metadata": {
  "kernelspec": {
   "display_name": "dataton-fach",
   "language": "python",
   "name": "python3"
  },
  "language_info": {
   "codemirror_mode": {
    "name": "ipython",
    "version": 3
   },
   "file_extension": ".py",
   "mimetype": "text/x-python",
   "name": "python",
   "nbconvert_exporter": "python",
   "pygments_lexer": "ipython3",
   "version": "3.10.11"
  }
 },
 "nbformat": 4,
 "nbformat_minor": 2
}
