{
 "cells": [
  {
   "cell_type": "code",
   "execution_count": 11,
   "metadata": {},
   "outputs": [],
   "source": [
    "import rasterio\n",
    "import rioxarray"
   ]
  },
  {
   "cell_type": "code",
   "execution_count": 12,
   "metadata": {},
   "outputs": [],
   "source": [
    "tif_pre_fire = \"../rasters/lansat/2023_valpo_swir16-nir-red.tif\"\n",
    "tif_post_fire = \"../rasters/lansat/2024_valpo_swir16-nir-red.tif\"\n",
    "\n",
    "pre_fire = rasterio.open(tif_pre_fire)\n",
    "post_fire = rasterio.open(tif_post_fire)"
   ]
  },
  {
   "cell_type": "code",
   "execution_count": 13,
   "metadata": {},
   "outputs": [],
   "source": [
    "# Usamos las bandas SWIR y NIR para calcular el NBR\n",
    "nbr_pre_fire = (pre_fire.read(1) - pre_fire.read(2)) / (pre_fire.read(1) + pre_fire.read(2))\n",
    "nbr_post_fire = (post_fire.read(1) - post_fire.read(2)) / (post_fire.read(1) + post_fire.read(2))\n",
    "\n",
    "# Con estos calculamos el dNBR\n",
    "dnbr = nbr_pre_fire - nbr_post_fire\n",
    "\n",
    "# Guardamos el resultado en un nuevo archivo\n",
    "profile = pre_fire.profile\n",
    "profile.update(dtype=rasterio.float32, count=1)\n",
    "with rasterio.open(\"../rasters/lansat/dnbr.tif\", \"w\", **profile) as dst:\n",
    "    dst.write(dnbr, 1)\n",
    "    "
   ]
  },
  {
   "cell_type": "code",
   "execution_count": null,
   "metadata": {},
   "outputs": [],
   "source": []
  }
 ],
 "metadata": {
  "kernelspec": {
   "display_name": "dataton-fach",
   "language": "python",
   "name": "python3"
  },
  "language_info": {
   "codemirror_mode": {
    "name": "ipython",
    "version": 3
   },
   "file_extension": ".py",
   "mimetype": "text/x-python",
   "name": "python",
   "nbconvert_exporter": "python",
   "pygments_lexer": "ipython3",
   "version": "3.10.11"
  }
 },
 "nbformat": 4,
 "nbformat_minor": 2
}
